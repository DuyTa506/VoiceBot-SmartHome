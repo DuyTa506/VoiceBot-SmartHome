{
 "cells": [
  {
   "cell_type": "code",
   "execution_count": 7,
   "metadata": {},
   "outputs": [
    {
     "name": "stdout",
     "output_type": "stream",
     "text": [
      "Connected to server\n",
      "Received: \n"
     ]
    },
    {
     "ename": "ConnectionAbortedError",
     "evalue": "[WinError 10053] An established connection was aborted by the software in your host machine",
     "output_type": "error",
     "traceback": [
      "\u001b[1;31m---------------------------------------------------------------------------\u001b[0m",
      "\u001b[1;31mConnectionAbortedError\u001b[0m                    Traceback (most recent call last)",
      "Cell \u001b[1;32mIn[7], line 16\u001b[0m\n\u001b[0;32m     14\u001b[0m     s\u001b[39m.\u001b[39msendall(\u001b[39m'\u001b[39m\u001b[39m1\u001b[39m\u001b[39m'\u001b[39m)\n\u001b[0;32m     15\u001b[0m     \u001b[39mbreak\u001b[39;00m\n\u001b[1;32m---> 16\u001b[0m data \u001b[39m=\u001b[39m s\u001b[39m.\u001b[39;49mrecv(\u001b[39m2048\u001b[39;49m)\n\u001b[0;32m     17\u001b[0m \u001b[39mprint\u001b[39m(\u001b[39mf\u001b[39m\u001b[39m'\u001b[39m\u001b[39mReceived: \u001b[39m\u001b[39m{\u001b[39;00mdata\u001b[39m.\u001b[39mdecode()\u001b[39m}\u001b[39;00m\u001b[39m'\u001b[39m)\n",
      "\u001b[1;31mConnectionAbortedError\u001b[0m: [WinError 10053] An established connection was aborted by the software in your host machine"
     ]
    }
   ],
   "source": [
    "import socket\n",
    "\n",
    "HOST = '127.0.0.1'  # Replace with the server's IP address\n",
    "PORT = 8080  # Same port number as on the server\n",
    "\n",
    "with socket.socket(socket.AF_INET, socket.SOCK_STREAM) as s:\n",
    "    s.connect((HOST, PORT))\n",
    "    print('Connected to server')\n",
    "    while True:\n",
    "        message = input('Enter message: ')\n",
    "        s.sendall(message.encode(encoding='utf-8'))\n",
    "        if message == 'bye':\n",
    "            print('Closing connection...')\n",
    "            s.sendall('1')\n",
    "            break\n",
    "        data = s.recv(2048)\n",
    "        print(f'Received: {data.decode()}')\n"
   ]
  },
  {
   "cell_type": "code",
   "execution_count": null,
   "metadata": {},
   "outputs": [
    {
     "ename": "",
     "evalue": "",
     "output_type": "error",
     "traceback": [
      "\u001b[1;31mRunning cells with 'rasa' requires the ipykernel package.\n",
      "\u001b[1;31mRun the following command to install 'ipykernel' into the Python environment. \n",
      "\u001b[1;31mCommand: 'conda install -n rasa ipykernel --update-deps --force-reinstall'"
     ]
    }
   ],
   "source": [
    "import socket\n",
    "\n",
    "HOST = \"127.0.0.1\"  # The server's hostname or IP address\n",
    "PORT = 8000  # The port used by the server\n",
    "\n",
    "with socket.socket(socket.AF_INET, socket.SOCK_STREAM) as s:\n",
    "    s.connect((HOST, PORT))\n",
    "    s.sendall(b\"Hello, world\")\n",
    "    data = s.recv(1024)\n",
    "\n",
    "print(f\"Received {data!r}\")"
   ]
  },
  {
   "cell_type": "code",
   "execution_count": 2,
   "metadata": {},
   "outputs": [
    {
     "name": "stdout",
     "output_type": "stream",
     "text": [
      "192.168.43.81\n"
     ]
    },
    {
     "name": "stdout",
     "output_type": "stream",
     "text": [
      "server listening at ('192.168.43.81', 8079)\n"
     ]
    },
    {
     "name": "stderr",
     "output_type": "stream",
     "text": [
      "Exception in thread Thread-4 (audio_stream):\n",
      "Traceback (most recent call last):\n",
      "  File \"d:\\Anaconda\\lib\\threading.py\", line 1016, in _bootstrap_inner\n",
      "    self.run()\n",
      "  File \"d:\\Anaconda\\lib\\threading.py\", line 953, in run\n",
      "    self._target(*self._args, **self._kwargs)\n",
      "  File \"C:\\Users\\Duy''\\AppData\\Local\\Temp\\ipykernel_20432\\2097546054.py\", line 24, in audio_stream\n",
      "ConnectionRefusedError: [WinError 10061] No connection could be made because the target machine actively refused it\n"
     ]
    }
   ],
   "source": [
    "# Welcome to PyShine\n",
    "# This is client code to receive video and audio frames over TCP\n",
    "\n",
    "import socket,os\n",
    "import threading, wave, pyaudio, pickle,struct\n",
    "host_name = socket.gethostname()\n",
    "host_ip = '192.168.43.81'#  socket.gethostbyname(host_name)\n",
    "print(host_ip)\n",
    "port = 8080\n",
    "def audio_stream():\n",
    "\t\n",
    "\tp = pyaudio.PyAudio()\n",
    "\tCHUNK = 1024\n",
    "\tstream = p.open(format=p.get_format_from_width(2),\n",
    "\t\t\t\t\tchannels=1,\n",
    "\t\t\t\t\trate=16000,\n",
    "\t\t\t\t\toutput=True,\n",
    "\t\t\t\t\tframes_per_buffer=CHUNK)\n",
    "\t\t\t\t\t\n",
    "\t# create socket\n",
    "\tclient_socket = socket.socket(socket.AF_INET,socket.SOCK_STREAM)\n",
    "\tsocket_address = (host_ip,port-1)\n",
    "\tprint('server listening at',socket_address)\n",
    "\tclient_socket.connect(socket_address) \n",
    "\tprint(\"CLIENT CONNECTED TO\",socket_address)\n",
    "\tdata = b\"\"\n",
    "\tpayload_size = struct.calcsize(\"Q\")\n",
    "\twhile True:\n",
    "\t\ttry:\n",
    "\t\t\twhile len(data) < payload_size:\n",
    "\t\t\t\tpacket = client_socket.recv(4*1024) # 4K\n",
    "\t\t\t\tif not packet: break\n",
    "\t\t\t\tdata+=packet\n",
    "\t\t\tpacked_msg_size = data[:payload_size]\n",
    "\t\t\tdata = data[payload_size:]\n",
    "\t\t\tmsg_size = struct.unpack(\"Q\",packed_msg_size)[0]\n",
    "\t\t\twhile len(data) < msg_size:\n",
    "\t\t\t\tdata += client_socket.recv(4*1024)\n",
    "\t\t\tframe_data = data[:msg_size]\n",
    "\t\t\tdata  = data[msg_size:]\n",
    "\t\t\tframe = pickle.loads(frame_data)\n",
    "\t\t\tstream.write(frame)\n",
    "\n",
    "\t\texcept:\n",
    "\t\t\t\n",
    "\t\t\tbreak\n",
    "\n",
    "\tclient_socket.close()\n",
    "\tprint('Audio closed')\n",
    "\tos._exit(1)\n",
    "\t\n",
    "t1 = threading.Thread(target=audio_stream, args=())\n",
    "t1.start()\n",
    "\n",
    "\n"
   ]
  },
  {
   "cell_type": "code",
   "execution_count": 12,
   "metadata": {},
   "outputs": [
    {
     "name": "stdout",
     "output_type": "stream",
     "text": [
      "/e:\\VoiceBot_Embedded\\rasa\\2023-05-07_23-59-37.wav\n"
     ]
    }
   ],
   "source": [
    "import os\n",
    "import datetime\n",
    "now = datetime.datetime.now() \n",
    "print(f\"/{os.path.join(os.getcwd(),now.strftime('%Y-%m-%d_%H-%M-%S') )}.wav\" )"
   ]
  },
  {
   "cell_type": "code",
   "execution_count": 3,
   "metadata": {},
   "outputs": [
    {
     "ename": "ImportError",
     "evalue": "cannot import name 'Recorder' from 'AudioRec' (unknown location)",
     "output_type": "error",
     "traceback": [
      "\u001b[1;31m---------------------------------------------------------------------------\u001b[0m",
      "\u001b[1;31mImportError\u001b[0m                               Traceback (most recent call last)",
      "Cell \u001b[1;32mIn[3], line 1\u001b[0m\n\u001b[1;32m----> 1\u001b[0m \u001b[39mfrom\u001b[39;00m \u001b[39mAudioRec\u001b[39;00m \u001b[39mimport\u001b[39;00m Recorder\n\u001b[0;32m      2\u001b[0m \u001b[39mimport\u001b[39;00m \u001b[39mtime\u001b[39;00m\n\u001b[0;32m      3\u001b[0m rec \u001b[39m=\u001b[39m Recorder()\n",
      "\u001b[1;31mImportError\u001b[0m: cannot import name 'Recorder' from 'AudioRec' (unknown location)"
     ]
    }
   ],
   "source": [
    "from AudioRec import Recorder\n",
    "import time\n",
    "rec = Recorder()\n",
    "print(\"Start recording\")\n",
    "rec.start()\n",
    "time.sleep(5)\n",
    "print(\"Stop recording\")\n",
    "rec.stop()\n",
    "print(\"Saving\")\n",
    "rec.save(\"test.wav\")\n",
    "# print(\"Converting wav to mp3\")\n",
    "# Recorder.wavTomp3(\"test.wav\")\n",
    "# print(\"deleting wav\")\n",
    "# Recorder.delete(\"test.wav\")"
   ]
  },
  {
   "cell_type": "code",
   "execution_count": 3,
   "metadata": {},
   "outputs": [
    {
     "name": "stdout",
     "output_type": "stream",
     "text": [
      "Server Started\n"
     ]
    }
   ],
   "source": [
    "import socket\n",
    "\n",
    "def Main():\n",
    "   \n",
    "    host = '192.168.223.172' #Server ip\n",
    "    port = 6000\n",
    "\n",
    "    s = socket.socket(socket.AF_INET, socket.SOCK_DGRAM)\n",
    "    s.bind((host, port))\n",
    "\n",
    "    print(\"Server Started\")\n",
    "    while True:\n",
    "        data, addr = s.recvfrom(1024)\n",
    "        data = data.decode('utf-8')\n",
    "        print(\"Message from: \" + str(addr))\n",
    "        print(\"From connected user: \" + data)\n",
    "        data = data.upper()\n",
    "        print(\"Sending: \" + data)\n",
    "        s.sendto(data.encode('utf-8'), addr)\n",
    "    c.close()\n",
    "\n",
    "if __name__=='__main__':\n",
    "    Main()"
   ]
  },
  {
   "cell_type": "code",
   "execution_count": 1,
   "metadata": {},
   "outputs": [],
   "source": []
  }
 ],
 "metadata": {
  "kernelspec": {
   "display_name": "rasa",
   "language": "python",
   "name": "python3"
  },
  "language_info": {
   "codemirror_mode": {
    "name": "ipython",
    "version": 3
   },
   "file_extension": ".py",
   "mimetype": "text/x-python",
   "name": "python",
   "nbconvert_exporter": "python",
   "pygments_lexer": "ipython3",
   "version": "3.10.9"
  },
  "orig_nbformat": 4
 },
 "nbformat": 4,
 "nbformat_minor": 2
}
